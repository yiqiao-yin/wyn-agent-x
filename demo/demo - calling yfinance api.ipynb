{
  "nbformat": 4,
  "nbformat_minor": 0,
  "metadata": {
    "colab": {
      "provenance": []
    },
    "kernelspec": {
      "name": "python3",
      "display_name": "Python 3"
    },
    "language_info": {
      "name": "python"
    }
  },
  "cells": [
    {
      "cell_type": "markdown",
      "source": [
        "## Setup"
      ],
      "metadata": {
        "id": "SvtpO7W9QOsI"
      }
    },
    {
      "cell_type": "code",
      "source": [
        "! pip install wyn-agent-x==0.3.7"
      ],
      "metadata": {
        "id": "VglIkj-sQHuW"
      },
      "execution_count": null,
      "outputs": []
    },
    {
      "cell_type": "markdown",
      "source": [
        "This demo only needs *OPENAI_API_KEY*. You should have this from *OPENAI* website and save it in Google Colab secrets."
      ],
      "metadata": {
        "id": "hFiAtlaJQSy4"
      }
    },
    {
      "cell_type": "code",
      "source": [
        "from google.colab import userdata\n",
        "\n",
        "# Fetch API credentials\n",
        "OPENAI_API_KEY = userdata.get('OPENAI_API_KEY')\n",
        "TWILIO_ACCOUNT_SID = userdata.get(\"YOUR_TWILIO_ACCOUNT_SID\")\n",
        "TWILIO_AUTH_TOKEN = userdata.get(\"YOUR_TWILIO_AUTH_TOKEN\")\n",
        "SERPAPI_API_KEY = userdata.get(\"SERPAPI_API_KEY\")"
      ],
      "metadata": {
        "id": "_cgmg-oAQQEY"
      },
      "execution_count": 2,
      "outputs": []
    },
    {
      "cell_type": "markdown",
      "source": [
        "## Run Demo"
      ],
      "metadata": {
        "id": "ihLcuZCGQYFE"
      }
    },
    {
      "cell_type": "code",
      "execution_count": 3,
      "metadata": {
        "colab": {
          "base_uri": "https://localhost:8080/"
        },
        "id": "ndMAzpKOQD3v",
        "outputId": "8827320e-7689-45a8-94d9-857728c155ee"
      },
      "outputs": [
        {
          "output_type": "stream",
          "name": "stdout",
          "text": [
            "👋 Welcome! Press 'EXIT' to quit the chat at any time.\n",
            "User: i want to generate a company financial report\n",
            "Match found for trigger: 'generate company report'\n",
            "👀 Intent detected for API call: generate_financial_report\n",
            "Please provide ticker: NVDA\n",
            "Please provide save_pdf: Yes\n",
            "Generating financial report for ticker: NVDA, save_pdf: Yes\n",
            "PDF saved as NVDA_report.pdf.\n",
            "User: EXIT\n",
            "👋 Thanks for chatting! Have a great day! 🌟\n"
          ]
        }
      ],
      "source": [
        "# Import the agent\n",
        "from wyn_agent_x.main import AgentX\n",
        "\n",
        "# Initialize and start the chat!\n",
        "agent = AgentX(\n",
        "    api_key=OPENAI_API_KEY,\n",
        "    account_sid=TWILIO_ACCOUNT_SID,\n",
        "    auth_token=TWILIO_AUTH_TOKEN,\n",
        "    serpapi_key=SERPAPI_API_KEY,\n",
        "    protocol='You are a helpful assistant.')\n",
        "agent.start_chat()"
      ]
    }
  ]
}