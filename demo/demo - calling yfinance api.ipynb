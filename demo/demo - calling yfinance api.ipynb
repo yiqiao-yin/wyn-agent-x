{
  "nbformat": 4,
  "nbformat_minor": 0,
  "metadata": {
    "colab": {
      "provenance": [],
      "machine_shape": "hm",
      "gpuType": "L4"
    },
    "kernelspec": {
      "name": "python3",
      "display_name": "Python 3"
    },
    "language_info": {
      "name": "python"
    },
    "accelerator": "GPU"
  },
  "cells": [
    {
      "cell_type": "markdown",
      "source": [
        "## Setup"
      ],
      "metadata": {
        "id": "SvtpO7W9QOsI"
      }
    },
    {
      "cell_type": "code",
      "source": [
        "! pip uninstall wyn-agent-x -y"
      ],
      "metadata": {
        "colab": {
          "base_uri": "https://localhost:8080/"
        },
        "id": "hd4TZBZ1YY5v",
        "outputId": "64afa7c7-f3c6-43f6-af10-e910585a9e73"
      },
      "execution_count": 1,
      "outputs": [
        {
          "output_type": "stream",
          "name": "stdout",
          "text": [
            "\u001b[33mWARNING: Skipping wyn-agent-x as it is not installed.\u001b[0m\u001b[33m\n",
            "\u001b[0m"
          ]
        }
      ]
    },
    {
      "cell_type": "code",
      "source": [
        "! pip install wyn-agent-x==0.4.3"
      ],
      "metadata": {
        "id": "VglIkj-sQHuW"
      },
      "execution_count": null,
      "outputs": []
    },
    {
      "cell_type": "markdown",
      "source": [
        "This demo only needs *OPENAI_API_KEY*. You should have this from *OPENAI* website and save it in Google Colab secrets."
      ],
      "metadata": {
        "id": "hFiAtlaJQSy4"
      }
    },
    {
      "cell_type": "code",
      "source": [
        "from google.colab import userdata\n",
        "\n",
        "# Fetch API credentials\n",
        "OPENAI_API_KEY = userdata.get('OPENAI_API_KEY')\n",
        "TWILIO_ACCOUNT_SID = userdata.get(\"YOUR_TWILIO_ACCOUNT_SID\")\n",
        "TWILIO_AUTH_TOKEN = userdata.get(\"YOUR_TWILIO_AUTH_TOKEN\")\n",
        "SERPAPI_API_KEY = userdata.get(\"SERPAPI_API_KEY\")\n",
        "PY_EMAIL_KEY = userdata.get(\"PY_EMAIL_KEY\")"
      ],
      "metadata": {
        "id": "_cgmg-oAQQEY"
      },
      "execution_count": 3,
      "outputs": []
    },
    {
      "cell_type": "markdown",
      "source": [
        "## Run Demo"
      ],
      "metadata": {
        "id": "ihLcuZCGQYFE"
      }
    },
    {
      "cell_type": "code",
      "source": [
        "# Import the agent\n",
        "from wyn_agent_x.main import AgentX\n",
        "\n",
        "# Initialize and start the chat!\n",
        "agent = AgentX(\n",
        "    api_key=OPENAI_API_KEY,\n",
        "    account_sid=TWILIO_ACCOUNT_SID,\n",
        "    auth_token=TWILIO_AUTH_TOKEN,\n",
        "    serpapi_key=SERPAPI_API_KEY,\n",
        "    email_key=PY_EMAIL_KEY,\n",
        "    protocol='You are a helpful assistant.')\n",
        "agent.start_chat()"
      ],
      "metadata": {
        "colab": {
          "base_uri": "https://localhost:8080/"
        },
        "id": "HmWhiCtwjXM1",
        "outputId": "79511b6c-201b-4b85-87d1-95ddf1b7a375"
      },
      "execution_count": 4,
      "outputs": [
        {
          "output_type": "stream",
          "name": "stdout",
          "text": [
            "👋 Welcome! Press 'EXIT' to quit the chat at any time.\n",
            "User: i want to generate company financial report\n",
            "Match found for trigger: 'generate company report'\n",
            "👀 Intent detected for API call: generate_financial_report\n",
            "Please provide ticker: NVDA\n",
            "Please provide save_pdf: True\n",
            "Please provide send_email: True\n",
            "Please provide to_email: eagle0504@gmail.com\n",
            "Generating financial report for ticker: NVDA, save_pdf: True\n",
            "PDF saved as NVDA_report.pdf.\n",
            "Email sent successfully to eagle0504@gmail.com with the attached PDF: NVDA_report.pdf\n",
            "User: EXIT\n",
            "👋 Thanks for chatting! Have a great day! 🌟\n"
          ]
        }
      ]
    }
  ]
}