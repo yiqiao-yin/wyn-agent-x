{
  "nbformat": 4,
  "nbformat_minor": 0,
  "metadata": {
    "colab": {
      "provenance": [],
      "machine_shape": "hm",
      "gpuType": "L4"
    },
    "kernelspec": {
      "name": "python3",
      "display_name": "Python 3"
    },
    "language_info": {
      "name": "python"
    },
    "accelerator": "GPU"
  },
  "cells": [
    {
      "cell_type": "markdown",
      "source": [
        "## Setup"
      ],
      "metadata": {
        "id": "SvtpO7W9QOsI"
      }
    },
    {
      "cell_type": "code",
      "source": [
        "! pip uninstall wyn-agent-x -y"
      ],
      "metadata": {
        "colab": {
          "base_uri": "https://localhost:8080/"
        },
        "id": "hd4TZBZ1YY5v",
        "outputId": "d5c2d9bd-8229-44e6-af5c-fcae66161a95"
      },
      "execution_count": 1,
      "outputs": [
        {
          "output_type": "stream",
          "name": "stdout",
          "text": [
            "\u001b[33mWARNING: Skipping wyn-agent-x as it is not installed.\u001b[0m\u001b[33m\n",
            "\u001b[0m"
          ]
        }
      ]
    },
    {
      "cell_type": "code",
      "source": [
        "! pip install wyn-agent-x==0.4.2"
      ],
      "metadata": {
        "id": "VglIkj-sQHuW"
      },
      "execution_count": null,
      "outputs": []
    },
    {
      "cell_type": "markdown",
      "source": [
        "This demo only needs *OPENAI_API_KEY*. You should have this from *OPENAI* website and save it in Google Colab secrets."
      ],
      "metadata": {
        "id": "hFiAtlaJQSy4"
      }
    },
    {
      "cell_type": "code",
      "source": [
        "from google.colab import userdata\n",
        "\n",
        "# Fetch API credentials\n",
        "OPENAI_API_KEY = userdata.get('OPENAI_API_KEY')\n",
        "TWILIO_ACCOUNT_SID = userdata.get(\"YOUR_TWILIO_ACCOUNT_SID\")\n",
        "TWILIO_AUTH_TOKEN = userdata.get(\"YOUR_TWILIO_AUTH_TOKEN\")\n",
        "SERPAPI_API_KEY = userdata.get(\"SERPAPI_API_KEY\")\n",
        "PY_EMAIL_KEY = userdata.get(\"PY_EMAIL_KEY\")"
      ],
      "metadata": {
        "id": "_cgmg-oAQQEY"
      },
      "execution_count": 3,
      "outputs": []
    },
    {
      "cell_type": "markdown",
      "source": [
        "## Run Demo"
      ],
      "metadata": {
        "id": "ihLcuZCGQYFE"
      }
    },
    {
      "cell_type": "code",
      "source": [
        "# Import the agent\n",
        "from wyn_agent_x.main import AgentX\n",
        "\n",
        "# Initialize and start the chat!\n",
        "agent = AgentX(\n",
        "    api_key=OPENAI_API_KEY,\n",
        "    account_sid=TWILIO_ACCOUNT_SID,\n",
        "    auth_token=TWILIO_AUTH_TOKEN,\n",
        "    serpapi_key=SERPAPI_API_KEY,\n",
        "    email_key=PY_EMAIL_KEY,\n",
        "    protocol='You are a helpful assistant.')\n",
        "agent.start_chat()"
      ],
      "metadata": {
        "colab": {
          "base_uri": "https://localhost:8080/"
        },
        "id": "HmWhiCtwjXM1",
        "outputId": "24ec88bf-a4c1-4c31-fe3c-c1e405a91f80"
      },
      "execution_count": 4,
      "outputs": [
        {
          "output_type": "stream",
          "name": "stdout",
          "text": [
            "👋 Welcome! Press 'EXIT' to quit the chat at any time.\n",
            "User: i want to generate company financial report\n",
            "Match found for trigger: 'generate company report'\n",
            "👀 Intent detected for API call: generate_financial_report\n",
            "Please provide ticker: FICO\n",
            "Please provide save_pdf: True\n",
            "Please provide send_email: True\n",
            "Please provide to_email: eagle0504@gmail.com\n",
            "Generating financial report for ticker: FICO, save_pdf: True\n",
            "PDF saved as FICO_report.pdf.\n",
            "Email sent successfully to eagle0504@gmail.com with the attached PDF: FICO_report.pdf\n",
            "User: google search\n",
            "Match found for trigger: 'google search'\n",
            "👀 Intent detected for API call: google_search\n",
            "Please provide engine: Google\n",
            "Please provide query: FICO recent news\n",
            "Please provide location: New York\n",
            "Please provide num: 10\n",
            "Run google search API using: \n",
            "query=FICO recent news, \n",
            "location=New York\n",
            "👀 Results: \n",
            "| Title | Link | Snippet |\n",
            "| :--- | :--- | :--- |\n",
            "| Newsroom - FICO | [Link](https://www.fico.com/en/newsroom) | Average Canadian FICO Score Drops from 762 to 760, Mirroring Modest Consumer Debt Level Increases and Economic Uncertainty |\n",
            "| Press Releases | FICO - Investor Relations | [Link](https://investors.fico.com/press-releases) | Investor Relations View annual reports, stock information, press releases and updated financials. Press Releases |\n",
            "| Fair Isaac Corporation (FICO) Latest Press Releases & ... | [Link](https://finance.yahoo.com/quote/FICO/press-releases/) | Average Canadian FICO Score Drops from 762 to 760, Mirroring Modest Consumer Debt Level Increases and Economic Uncertainty. TORONTO, November 20, 2024--New ... |\n",
            "| Newsroom | [Link](https://www.fico.com/en/newsroom?page=1) | Stay current on all of the latest FICO news and information. |\n",
            "| Fair Isaac Corporation (FICO) Latest Stock News & Headlines | [Link](https://finance.yahoo.com/quote/FICO/news/) | HP (HPQ) Stock Sinks As Market Gains: Here's Why. In the latest trading session, HP (HPQ) closed at $33.45, marking a -0.65% move from the previous day. |\n",
            "| fico News & Press Releases | [Link](https://www.prnewswire.com/news/fico/) | Jan 27, 2022, 16:15 ET FICO Announces Earnings of $3.09 per Share for First Quarter Fiscal 2022 · Jan 27, 2022, 09:00 ET FICO Announces New Stock Repurchase ... |\n",
            "| FICO: Fair Isaac Corp - Stock Price, Quote and News | [Link](https://www.cnbc.com/quotes/FICO) | Get Fair Isaac Corp (FICO:NYSE) real-time stock quotes, news, price and financial information from CNBC. |\n",
            "| Fair Isaac Corp News - FICO | [Link](https://www.morningstar.com/stocks/xnys/fico/news) | FICO Wins Banking Tech Award for Blockchain and AI Innovation · MCT and FICO Collaborate to Bring Predictive FICO® Score 10 T to Secondary Mortgage Marketplace. |\n",
            "| FICO News Today | Why did Fair Isaac stock go down today? | [Link](https://www.marketbeat.com/stocks/NYSE/FICO/news/) | Nordea Investment Management AB lowered its position in shares of Fair Isaac Co. (NYSE:FICO - Free Report) by 5.2% in the fourth quarter, according to the ... |\n",
            "| FICO - Fair Isaac Corporation Latest Stock News & Market ... | [Link](https://www.stocktitan.net/news/FICO/) | FICO has announced that Nate Silver will deliver a keynote address at FICO® World 2025, taking place in Hollywood, FL, from May 6-9, 2025. The conference, ... |\n",
            "\n",
            "User: EXIT\n",
            "👋 Thanks for chatting! Have a great day! 🌟\n"
          ]
        }
      ]
    }
  ]
}