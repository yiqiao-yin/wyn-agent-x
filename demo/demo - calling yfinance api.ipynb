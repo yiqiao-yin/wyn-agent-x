{
  "nbformat": 4,
  "nbformat_minor": 0,
  "metadata": {
    "colab": {
      "provenance": [],
      "collapsed_sections": [
        "SvtpO7W9QOsI"
      ]
    },
    "kernelspec": {
      "name": "python3",
      "display_name": "Python 3"
    },
    "language_info": {
      "name": "python"
    }
  },
  "cells": [
    {
      "cell_type": "markdown",
      "source": [
        "## Setup"
      ],
      "metadata": {
        "id": "SvtpO7W9QOsI"
      }
    },
    {
      "cell_type": "code",
      "source": [
        "! pip install wyn-agent-x==0.3.7"
      ],
      "metadata": {
        "colab": {
          "base_uri": "https://localhost:8080/"
        },
        "id": "VglIkj-sQHuW",
        "outputId": "3522f22e-15d5-41ff-9b8d-1947d4ebbd88"
      },
      "execution_count": 1,
      "outputs": [
        {
          "output_type": "stream",
          "name": "stdout",
          "text": [
            "Collecting wyn-agent-x==0.3.7\n",
            "  Downloading wyn_agent_x-0.3.7-py3-none-any.whl.metadata (5.4 kB)\n",
            "Collecting fpdf==1.7.2 (from wyn-agent-x==0.3.7)\n",
            "  Downloading fpdf-1.7.2.tar.gz (39 kB)\n",
            "  Preparing metadata (setup.py) ... \u001b[?25l\u001b[?25hdone\n",
            "Collecting google-search-results<3.0.0,>=2.4.2 (from wyn-agent-x==0.3.7)\n",
            "  Downloading google_search_results-2.4.2.tar.gz (18 kB)\n",
            "  Preparing metadata (setup.py) ... \u001b[?25l\u001b[?25hdone\n",
            "Requirement already satisfied: openai<2.0.0,>=1.44.1 in /usr/local/lib/python3.10/dist-packages (from wyn-agent-x==0.3.7) (1.59.3)\n",
            "Collecting serpapi<0.2.0,>=0.1.5 (from wyn-agent-x==0.3.7)\n",
            "  Downloading serpapi-0.1.5-py2.py3-none-any.whl.metadata (10 kB)\n",
            "Collecting twilio<10.0.0,>=9.3.0 (from wyn-agent-x==0.3.7)\n",
            "  Downloading twilio-9.4.1-py2.py3-none-any.whl.metadata (12 kB)\n",
            "Collecting yfinance==0.2.50 (from wyn-agent-x==0.3.7)\n",
            "  Downloading yfinance-0.2.50-py2.py3-none-any.whl.metadata (5.5 kB)\n",
            "Requirement already satisfied: pandas>=1.3.0 in /usr/local/lib/python3.10/dist-packages (from yfinance==0.2.50->wyn-agent-x==0.3.7) (2.2.2)\n",
            "Requirement already satisfied: numpy>=1.16.5 in /usr/local/lib/python3.10/dist-packages (from yfinance==0.2.50->wyn-agent-x==0.3.7) (1.26.4)\n",
            "Requirement already satisfied: requests>=2.31 in /usr/local/lib/python3.10/dist-packages (from yfinance==0.2.50->wyn-agent-x==0.3.7) (2.32.3)\n",
            "Requirement already satisfied: multitasking>=0.0.7 in /usr/local/lib/python3.10/dist-packages (from yfinance==0.2.50->wyn-agent-x==0.3.7) (0.0.11)\n",
            "Requirement already satisfied: lxml>=4.9.1 in /usr/local/lib/python3.10/dist-packages (from yfinance==0.2.50->wyn-agent-x==0.3.7) (5.3.0)\n",
            "Requirement already satisfied: platformdirs>=2.0.0 in /usr/local/lib/python3.10/dist-packages (from yfinance==0.2.50->wyn-agent-x==0.3.7) (4.3.6)\n",
            "Requirement already satisfied: pytz>=2022.5 in /usr/local/lib/python3.10/dist-packages (from yfinance==0.2.50->wyn-agent-x==0.3.7) (2024.2)\n",
            "Requirement already satisfied: frozendict>=2.3.4 in /usr/local/lib/python3.10/dist-packages (from yfinance==0.2.50->wyn-agent-x==0.3.7) (2.4.6)\n",
            "Requirement already satisfied: peewee>=3.16.2 in /usr/local/lib/python3.10/dist-packages (from yfinance==0.2.50->wyn-agent-x==0.3.7) (3.17.8)\n",
            "Requirement already satisfied: beautifulsoup4>=4.11.1 in /usr/local/lib/python3.10/dist-packages (from yfinance==0.2.50->wyn-agent-x==0.3.7) (4.12.3)\n",
            "Requirement already satisfied: html5lib>=1.1 in /usr/local/lib/python3.10/dist-packages (from yfinance==0.2.50->wyn-agent-x==0.3.7) (1.1)\n",
            "Requirement already satisfied: anyio<5,>=3.5.0 in /usr/local/lib/python3.10/dist-packages (from openai<2.0.0,>=1.44.1->wyn-agent-x==0.3.7) (3.7.1)\n",
            "Requirement already satisfied: distro<2,>=1.7.0 in /usr/local/lib/python3.10/dist-packages (from openai<2.0.0,>=1.44.1->wyn-agent-x==0.3.7) (1.9.0)\n",
            "Requirement already satisfied: httpx<1,>=0.23.0 in /usr/local/lib/python3.10/dist-packages (from openai<2.0.0,>=1.44.1->wyn-agent-x==0.3.7) (0.28.1)\n",
            "Requirement already satisfied: jiter<1,>=0.4.0 in /usr/local/lib/python3.10/dist-packages (from openai<2.0.0,>=1.44.1->wyn-agent-x==0.3.7) (0.8.2)\n",
            "Requirement already satisfied: pydantic<3,>=1.9.0 in /usr/local/lib/python3.10/dist-packages (from openai<2.0.0,>=1.44.1->wyn-agent-x==0.3.7) (2.10.4)\n",
            "Requirement already satisfied: sniffio in /usr/local/lib/python3.10/dist-packages (from openai<2.0.0,>=1.44.1->wyn-agent-x==0.3.7) (1.3.1)\n",
            "Requirement already satisfied: tqdm>4 in /usr/local/lib/python3.10/dist-packages (from openai<2.0.0,>=1.44.1->wyn-agent-x==0.3.7) (4.67.1)\n",
            "Requirement already satisfied: typing-extensions<5,>=4.11 in /usr/local/lib/python3.10/dist-packages (from openai<2.0.0,>=1.44.1->wyn-agent-x==0.3.7) (4.12.2)\n",
            "Requirement already satisfied: PyJWT<3.0.0,>=2.0.0 in /usr/local/lib/python3.10/dist-packages (from twilio<10.0.0,>=9.3.0->wyn-agent-x==0.3.7) (2.10.1)\n",
            "Requirement already satisfied: aiohttp>=3.8.4 in /usr/local/lib/python3.10/dist-packages (from twilio<10.0.0,>=9.3.0->wyn-agent-x==0.3.7) (3.11.11)\n",
            "Collecting aiohttp-retry==2.8.3 (from twilio<10.0.0,>=9.3.0->wyn-agent-x==0.3.7)\n",
            "  Downloading aiohttp_retry-2.8.3-py3-none-any.whl.metadata (8.9 kB)\n",
            "Requirement already satisfied: aiohappyeyeballs>=2.3.0 in /usr/local/lib/python3.10/dist-packages (from aiohttp>=3.8.4->twilio<10.0.0,>=9.3.0->wyn-agent-x==0.3.7) (2.4.4)\n",
            "Requirement already satisfied: aiosignal>=1.1.2 in /usr/local/lib/python3.10/dist-packages (from aiohttp>=3.8.4->twilio<10.0.0,>=9.3.0->wyn-agent-x==0.3.7) (1.3.2)\n",
            "Requirement already satisfied: async-timeout<6.0,>=4.0 in /usr/local/lib/python3.10/dist-packages (from aiohttp>=3.8.4->twilio<10.0.0,>=9.3.0->wyn-agent-x==0.3.7) (4.0.3)\n",
            "Requirement already satisfied: attrs>=17.3.0 in /usr/local/lib/python3.10/dist-packages (from aiohttp>=3.8.4->twilio<10.0.0,>=9.3.0->wyn-agent-x==0.3.7) (24.3.0)\n",
            "Requirement already satisfied: frozenlist>=1.1.1 in /usr/local/lib/python3.10/dist-packages (from aiohttp>=3.8.4->twilio<10.0.0,>=9.3.0->wyn-agent-x==0.3.7) (1.5.0)\n",
            "Requirement already satisfied: multidict<7.0,>=4.5 in /usr/local/lib/python3.10/dist-packages (from aiohttp>=3.8.4->twilio<10.0.0,>=9.3.0->wyn-agent-x==0.3.7) (6.1.0)\n",
            "Requirement already satisfied: propcache>=0.2.0 in /usr/local/lib/python3.10/dist-packages (from aiohttp>=3.8.4->twilio<10.0.0,>=9.3.0->wyn-agent-x==0.3.7) (0.2.1)\n",
            "Requirement already satisfied: yarl<2.0,>=1.17.0 in /usr/local/lib/python3.10/dist-packages (from aiohttp>=3.8.4->twilio<10.0.0,>=9.3.0->wyn-agent-x==0.3.7) (1.18.3)\n",
            "Requirement already satisfied: idna>=2.8 in /usr/local/lib/python3.10/dist-packages (from anyio<5,>=3.5.0->openai<2.0.0,>=1.44.1->wyn-agent-x==0.3.7) (3.10)\n",
            "Requirement already satisfied: exceptiongroup in /usr/local/lib/python3.10/dist-packages (from anyio<5,>=3.5.0->openai<2.0.0,>=1.44.1->wyn-agent-x==0.3.7) (1.2.2)\n",
            "Requirement already satisfied: soupsieve>1.2 in /usr/local/lib/python3.10/dist-packages (from beautifulsoup4>=4.11.1->yfinance==0.2.50->wyn-agent-x==0.3.7) (2.6)\n",
            "Requirement already satisfied: six>=1.9 in /usr/local/lib/python3.10/dist-packages (from html5lib>=1.1->yfinance==0.2.50->wyn-agent-x==0.3.7) (1.17.0)\n",
            "Requirement already satisfied: webencodings in /usr/local/lib/python3.10/dist-packages (from html5lib>=1.1->yfinance==0.2.50->wyn-agent-x==0.3.7) (0.5.1)\n",
            "Requirement already satisfied: certifi in /usr/local/lib/python3.10/dist-packages (from httpx<1,>=0.23.0->openai<2.0.0,>=1.44.1->wyn-agent-x==0.3.7) (2024.12.14)\n",
            "Requirement already satisfied: httpcore==1.* in /usr/local/lib/python3.10/dist-packages (from httpx<1,>=0.23.0->openai<2.0.0,>=1.44.1->wyn-agent-x==0.3.7) (1.0.7)\n",
            "Requirement already satisfied: h11<0.15,>=0.13 in /usr/local/lib/python3.10/dist-packages (from httpcore==1.*->httpx<1,>=0.23.0->openai<2.0.0,>=1.44.1->wyn-agent-x==0.3.7) (0.14.0)\n",
            "Requirement already satisfied: python-dateutil>=2.8.2 in /usr/local/lib/python3.10/dist-packages (from pandas>=1.3.0->yfinance==0.2.50->wyn-agent-x==0.3.7) (2.8.2)\n",
            "Requirement already satisfied: tzdata>=2022.7 in /usr/local/lib/python3.10/dist-packages (from pandas>=1.3.0->yfinance==0.2.50->wyn-agent-x==0.3.7) (2024.2)\n",
            "Requirement already satisfied: annotated-types>=0.6.0 in /usr/local/lib/python3.10/dist-packages (from pydantic<3,>=1.9.0->openai<2.0.0,>=1.44.1->wyn-agent-x==0.3.7) (0.7.0)\n",
            "Requirement already satisfied: pydantic-core==2.27.2 in /usr/local/lib/python3.10/dist-packages (from pydantic<3,>=1.9.0->openai<2.0.0,>=1.44.1->wyn-agent-x==0.3.7) (2.27.2)\n",
            "Requirement already satisfied: charset-normalizer<4,>=2 in /usr/local/lib/python3.10/dist-packages (from requests>=2.31->yfinance==0.2.50->wyn-agent-x==0.3.7) (3.4.1)\n",
            "Requirement already satisfied: urllib3<3,>=1.21.1 in /usr/local/lib/python3.10/dist-packages (from requests>=2.31->yfinance==0.2.50->wyn-agent-x==0.3.7) (2.3.0)\n",
            "Downloading wyn_agent_x-0.3.7-py3-none-any.whl (11 kB)\n",
            "Downloading yfinance-0.2.50-py2.py3-none-any.whl (102 kB)\n",
            "\u001b[2K   \u001b[90m━━━━━━━━━━━━━━━━━━━━━━━━━━━━━━━━━━━━━━━━\u001b[0m \u001b[32m102.2/102.2 kB\u001b[0m \u001b[31m7.7 MB/s\u001b[0m eta \u001b[36m0:00:00\u001b[0m\n",
            "\u001b[?25hDownloading serpapi-0.1.5-py2.py3-none-any.whl (10 kB)\n",
            "Downloading twilio-9.4.1-py2.py3-none-any.whl (1.9 MB)\n",
            "\u001b[2K   \u001b[90m━━━━━━━━━━━━━━━━━━━━━━━━━━━━━━━━━━━━━━━━\u001b[0m \u001b[32m1.9/1.9 MB\u001b[0m \u001b[31m51.0 MB/s\u001b[0m eta \u001b[36m0:00:00\u001b[0m\n",
            "\u001b[?25hDownloading aiohttp_retry-2.8.3-py3-none-any.whl (9.8 kB)\n",
            "Building wheels for collected packages: fpdf, google-search-results\n",
            "  Building wheel for fpdf (setup.py) ... \u001b[?25l\u001b[?25hdone\n",
            "  Created wheel for fpdf: filename=fpdf-1.7.2-py2.py3-none-any.whl size=40704 sha256=239c62f40eb392b19d5fc18d45e8fe6cdc7afaec8ce7b66d100de485936a7ab9\n",
            "  Stored in directory: /root/.cache/pip/wheels/f9/95/ba/f418094659025eb9611f17cbcaf2334236bf39a0c3453ea455\n",
            "  Building wheel for google-search-results (setup.py) ... \u001b[?25l\u001b[?25hdone\n",
            "  Created wheel for google-search-results: filename=google_search_results-2.4.2-py3-none-any.whl size=32009 sha256=64ea57f0a910e89cedbb563a2afc9ff357cf00148eeebcfcd6781112b27e2826\n",
            "  Stored in directory: /root/.cache/pip/wheels/d3/b2/c3/03302d12bb44a2cdff3c9371f31b72c0c4e84b8d2285eeac53\n",
            "Successfully built fpdf google-search-results\n",
            "Installing collected packages: fpdf, serpapi, google-search-results, yfinance, aiohttp-retry, twilio, wyn-agent-x\n",
            "  Attempting uninstall: yfinance\n",
            "    Found existing installation: yfinance 0.2.51\n",
            "    Uninstalling yfinance-0.2.51:\n",
            "      Successfully uninstalled yfinance-0.2.51\n",
            "Successfully installed aiohttp-retry-2.8.3 fpdf-1.7.2 google-search-results-2.4.2 serpapi-0.1.5 twilio-9.4.1 wyn-agent-x-0.3.7 yfinance-0.2.50\n"
          ]
        }
      ]
    },
    {
      "cell_type": "markdown",
      "source": [
        "This demo only needs *OPENAI_API_KEY*. You should have this from *OPENAI* website and save it in Google Colab secrets."
      ],
      "metadata": {
        "id": "hFiAtlaJQSy4"
      }
    },
    {
      "cell_type": "code",
      "source": [
        "from google.colab import userdata\n",
        "\n",
        "# Fetch API credentials\n",
        "OPENAI_API_KEY = userdata.get('OPENAI_API_KEY')\n",
        "TWILIO_ACCOUNT_SID = userdata.get(\"YOUR_TWILIO_ACCOUNT_SID\")\n",
        "TWILIO_AUTH_TOKEN = userdata.get(\"YOUR_TWILIO_AUTH_TOKEN\")\n",
        "SERPAPI_API_KEY = userdata.get(\"SERPAPI_API_KEY\")"
      ],
      "metadata": {
        "id": "_cgmg-oAQQEY"
      },
      "execution_count": 2,
      "outputs": []
    },
    {
      "cell_type": "markdown",
      "source": [
        "## Run Demo"
      ],
      "metadata": {
        "id": "ihLcuZCGQYFE"
      }
    },
    {
      "cell_type": "code",
      "execution_count": 3,
      "metadata": {
        "colab": {
          "base_uri": "https://localhost:8080/"
        },
        "id": "ndMAzpKOQD3v",
        "outputId": "8827320e-7689-45a8-94d9-857728c155ee"
      },
      "outputs": [
        {
          "output_type": "stream",
          "name": "stdout",
          "text": [
            "👋 Welcome! Press 'EXIT' to quit the chat at any time.\n",
            "User: i want to generate a company financial report\n",
            "Match found for trigger: 'generate company report'\n",
            "👀 Intent detected for API call: generate_financial_report\n",
            "Please provide ticker: NVDA\n",
            "Please provide save_pdf: Yes\n",
            "Generating financial report for ticker: NVDA, save_pdf: Yes\n",
            "PDF saved as NVDA_report.pdf.\n",
            "User: EXIT\n",
            "👋 Thanks for chatting! Have a great day! 🌟\n"
          ]
        }
      ],
      "source": [
        "# Import the agent\n",
        "from wyn_agent_x.main import AgentX\n",
        "\n",
        "# Initialize and start the chat!\n",
        "agent = AgentX(\n",
        "    api_key=OPENAI_API_KEY,\n",
        "    account_sid=TWILIO_ACCOUNT_SID,\n",
        "    auth_token=TWILIO_AUTH_TOKEN,\n",
        "    serpapi_key=SERPAPI_API_KEY,\n",
        "    protocol='You are a helpful assistant.')\n",
        "agent.start_chat()"
      ]
    }
  ]
}